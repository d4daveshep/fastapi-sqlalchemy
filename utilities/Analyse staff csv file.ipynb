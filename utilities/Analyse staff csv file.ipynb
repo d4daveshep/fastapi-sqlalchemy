{
 "cells": [
  {
   "cell_type": "code",
   "execution_count": 14,
   "id": "eaeef157",
   "metadata": {},
   "outputs": [],
   "source": [
    "import pandas as pd\n",
    "import os\n",
    "from collections import Counter"
   ]
  },
  {
   "cell_type": "code",
   "execution_count": 7,
   "id": "cb16a9e3",
   "metadata": {},
   "outputs": [],
   "source": [
    "os.chdir(\"/home/david/dev/fastapi-sqlalchemy/tests\")"
   ]
  },
  {
   "cell_type": "code",
   "execution_count": 12,
   "id": "553ed37a",
   "metadata": {},
   "outputs": [
    {
     "data": {
      "text/html": [
       "<div>\n",
       "<style scoped>\n",
       "    .dataframe tbody tr th:only-of-type {\n",
       "        vertical-align: middle;\n",
       "    }\n",
       "\n",
       "    .dataframe tbody tr th {\n",
       "        vertical-align: top;\n",
       "    }\n",
       "\n",
       "    .dataframe thead th {\n",
       "        text-align: right;\n",
       "    }\n",
       "</style>\n",
       "<table border=\"1\" class=\"dataframe\">\n",
       "  <thead>\n",
       "    <tr style=\"text-align: right;\">\n",
       "      <th></th>\n",
       "      <th>Name</th>\n",
       "      <th>GM</th>\n",
       "      <th>Perm/Contract</th>\n",
       "    </tr>\n",
       "  </thead>\n",
       "  <tbody>\n",
       "    <tr>\n",
       "      <th>0</th>\n",
       "      <td>Aaron Ooi</td>\n",
       "      <td>Dan Cornwall</td>\n",
       "      <td>Contract</td>\n",
       "    </tr>\n",
       "    <tr>\n",
       "      <th>1</th>\n",
       "      <td>Aaron Zhou</td>\n",
       "      <td>David Shepherd Acting GM SE</td>\n",
       "      <td>Contract</td>\n",
       "    </tr>\n",
       "    <tr>\n",
       "      <th>2</th>\n",
       "      <td>Abhishek Thapliyal</td>\n",
       "      <td>Malen Hurbuns</td>\n",
       "      <td>Contract</td>\n",
       "    </tr>\n",
       "    <tr>\n",
       "      <th>3</th>\n",
       "      <td>Adrian Rivers</td>\n",
       "      <td>David Shepherd Acting GM SE</td>\n",
       "      <td>Perm</td>\n",
       "    </tr>\n",
       "    <tr>\n",
       "      <th>4</th>\n",
       "      <td>Aleksandra Ovalle</td>\n",
       "      <td>Dan Cornwall</td>\n",
       "      <td>Perm</td>\n",
       "    </tr>\n",
       "    <tr>\n",
       "      <th>...</th>\n",
       "      <td>...</td>\n",
       "      <td>...</td>\n",
       "      <td>...</td>\n",
       "    </tr>\n",
       "    <tr>\n",
       "      <th>186</th>\n",
       "      <td>NaN</td>\n",
       "      <td>NaN</td>\n",
       "      <td>NaN</td>\n",
       "    </tr>\n",
       "    <tr>\n",
       "      <th>187</th>\n",
       "      <td>NaN</td>\n",
       "      <td>NaN</td>\n",
       "      <td>NaN</td>\n",
       "    </tr>\n",
       "    <tr>\n",
       "      <th>188</th>\n",
       "      <td>NaN</td>\n",
       "      <td>NaN</td>\n",
       "      <td>NaN</td>\n",
       "    </tr>\n",
       "    <tr>\n",
       "      <th>189</th>\n",
       "      <td></td>\n",
       "      <td>NaN</td>\n",
       "      <td>NaN</td>\n",
       "    </tr>\n",
       "    <tr>\n",
       "      <th>190</th>\n",
       "      <td>NaN</td>\n",
       "      <td></td>\n",
       "      <td>NaN</td>\n",
       "    </tr>\n",
       "  </tbody>\n",
       "</table>\n",
       "<p>191 rows × 3 columns</p>\n",
       "</div>"
      ],
      "text/plain": [
       "                   Name                           GM Perm/Contract\n",
       "0             Aaron Ooi                 Dan Cornwall      Contract\n",
       "1            Aaron Zhou  David Shepherd Acting GM SE      Contract\n",
       "2    Abhishek Thapliyal                Malen Hurbuns      Contract\n",
       "3         Adrian Rivers  David Shepherd Acting GM SE          Perm\n",
       "4     Aleksandra Ovalle                 Dan Cornwall          Perm\n",
       "..                  ...                          ...           ...\n",
       "186                 NaN                          NaN           NaN\n",
       "187                 NaN                          NaN           NaN\n",
       "188                 NaN                          NaN           NaN\n",
       "189                                              NaN           NaN\n",
       "190                 NaN                                        NaN\n",
       "\n",
       "[191 rows x 3 columns]"
      ]
     },
     "execution_count": 12,
     "metadata": {},
     "output_type": "execute_result"
    }
   ],
   "source": [
    "df = pd.read_csv(\"./Utilisation report - 20230227.xlsx - Staff List.csv\", usecols=[0, 1, 2], header=7)\n",
    "df"
   ]
  },
  {
   "cell_type": "code",
   "execution_count": 11,
   "id": "2e0c6638",
   "metadata": {},
   "outputs": [
    {
     "data": {
      "text/plain": [
       "['Aaron Ooi',\n",
       " 'Aaron Zhou',\n",
       " 'Abhishek Thapliyal',\n",
       " 'Adrian Rivers',\n",
       " 'Aleksandra Ovalle',\n",
       " 'Alex Zuehlke',\n",
       " 'Alexey Pavlenko',\n",
       " 'Amin Zabihi',\n",
       " 'Andrew Barclay',\n",
       " 'Andrew Campkin',\n",
       " 'Andrew Lindesay',\n",
       " 'Andrew Martin',\n",
       " 'Andrew Simpson',\n",
       " 'Andrew Wells',\n",
       " 'Andy Mussell',\n",
       " 'Angel Petrovski',\n",
       " 'Anthony Barr',\n",
       " 'Ardhra Jacob',\n",
       " 'Asanka Padmakumara',\n",
       " 'Ava Czechowska',\n",
       " 'Barbara Gray',\n",
       " 'Ben Phear',\n",
       " 'Bert Huang',\n",
       " 'Bhawna Malhotra',\n",
       " 'Bjarne Hansen',\n",
       " 'Blair Jackson',\n",
       " 'Boris Guskee',\n",
       " 'Brenda Goudie',\n",
       " 'Bryan Stephens',\n",
       " 'Carlos Liu',\n",
       " 'Caterina Berimballi',\n",
       " 'Celeste Ormaechea',\n",
       " 'Charles Wang',\n",
       " 'Chris Callaghan',\n",
       " 'Chris Hoolihan',\n",
       " 'Clare Haeney',\n",
       " 'Colin Henwood',\n",
       " 'Colin Sergay',\n",
       " 'Connor Hewett',\n",
       " 'Corne Aspeling',\n",
       " 'Craig Forster',\n",
       " 'Craig McDonald',\n",
       " 'Dameon Andersen',\n",
       " 'Dan Cornwall',\n",
       " 'Danny Rietkerk',\n",
       " 'Daron Robinson',\n",
       " 'David Rawson',\n",
       " 'David Shepherd',\n",
       " 'Dennis Sosnoski',\n",
       " 'Dhaval Tanna',\n",
       " 'Dileep Samala',\n",
       " 'Dirk Wessels',\n",
       " 'Dmitry Oparin',\n",
       " 'Ed Statham',\n",
       " 'Edward Weaver',\n",
       " 'Ekamban Chokkappan',\n",
       " 'Fedor Vinogradov',\n",
       " 'Fletcher Thomas',\n",
       " \"Fran O'Neil\",\n",
       " 'Ganesan Srinivasan',\n",
       " 'Gerald Garcia',\n",
       " 'Gerry Dassi',\n",
       " 'Gowri Rudrabhatla',\n",
       " 'Grace Wang',\n",
       " 'Greg Montgomery',\n",
       " 'Hamid Sedghinezhad',\n",
       " 'Heidi Cone',\n",
       " 'Hsichen Hsieh',\n",
       " 'Inderdip Vraich',\n",
       " 'Irina Southwell',\n",
       " 'Jack Luo',\n",
       " 'Jason Kang',\n",
       " 'Jason Qu',\n",
       " 'Jenny Chiu',\n",
       " 'Jenny Mullane',\n",
       " 'Jiaqiu Zhao',\n",
       " 'Jill Nones',\n",
       " 'Joel Guevara',\n",
       " 'Jonathan Ackerman',\n",
       " 'Jonathon Poi Lee',\n",
       " 'Josh van den Heever',\n",
       " 'Karan Ramanathan',\n",
       " 'Karo Liang',\n",
       " 'Karthik Kreen Krishnan',\n",
       " 'Kate Lu',\n",
       " 'Kelvin Li',\n",
       " 'Ken Kato',\n",
       " 'Kenji Yamasaki',\n",
       " 'Kevin Zhang',\n",
       " 'Kiran Rajan',\n",
       " 'Kirill Ivanov',\n",
       " 'Kris Rayana',\n",
       " 'Krishaal Kumar',\n",
       " 'Krishna Caldas',\n",
       " 'Lana Shatonova',\n",
       " 'Llyle Van Schalkwyk',\n",
       " 'Luci Niemand',\n",
       " 'Lux Liu',\n",
       " 'Maheesha Kottegoda',\n",
       " 'Malendra Hurbuns',\n",
       " 'Manu Tendulkar',\n",
       " 'Manuel Mendes',\n",
       " 'Marvin Villahermosa',\n",
       " 'Mary-anne Stuart-William',\n",
       " 'Mason Blackwood',\n",
       " 'Massimo Berimballi',\n",
       " 'Matt Millar',\n",
       " 'Matthew Berg',\n",
       " 'Matthew Clarke',\n",
       " 'Max Tang',\n",
       " 'Maxim Kukharev',\n",
       " 'Megan Robb',\n",
       " 'Michael Magsuci',\n",
       " 'Michael Owen',\n",
       " 'Michael Whelan',\n",
       " 'Mike Gatman',\n",
       " 'Mike Nguyen',\n",
       " 'Mina Al-Ansari',\n",
       " 'Miriam Walker',\n",
       " 'Mohit Kalra',\n",
       " 'Morne Niemand',\n",
       " 'Naga Seramsetty',\n",
       " 'Natasha Pearce',\n",
       " 'Nicholas Redgwell',\n",
       " 'Nikolay Perov',\n",
       " 'Nripendra Pradhananga',\n",
       " 'Oliver Liu',\n",
       " 'Omkar Kadam',\n",
       " 'Paul Hayter',\n",
       " 'Paul McDonnell',\n",
       " 'Paul Wavish',\n",
       " 'Pavel Diatchenko',\n",
       " 'Peter Hunter',\n",
       " 'Phil Spenceley',\n",
       " 'Prabhakar Rachamalla',\n",
       " 'Prabhu Ramamoorthy',\n",
       " 'Pragathi Singamneni',\n",
       " 'Reece Gibbs',\n",
       " 'Rich Smith',\n",
       " 'Riel Fabillar',\n",
       " 'Robert Clark',\n",
       " 'Robin Bygrave',\n",
       " 'Robin Southgate',\n",
       " 'Rodd Penney',\n",
       " 'Ruan van Maarleveld',\n",
       " 'Ryan Harte',\n",
       " 'Sam Vellinga',\n",
       " 'Sama Sagar',\n",
       " 'Samuel Grospe',\n",
       " 'See Wong',\n",
       " 'Shane Henderson',\n",
       " 'Shi Min Lee',\n",
       " 'Sina Mobeen',\n",
       " 'Steve Kelly',\n",
       " 'Stuart Chen',\n",
       " 'Stuart Hilton',\n",
       " 'Stuart Massey',\n",
       " 'Sujan Gurung',\n",
       " 'Tao Lin',\n",
       " 'Ted Regino',\n",
       " 'Tejas Kulkarni',\n",
       " 'Terence White',\n",
       " 'Thiam Fatt',\n",
       " 'Thomas Vercoutre',\n",
       " 'Tim Ruddell',\n",
       " 'Tom Ellis',\n",
       " 'Tracy Carmona',\n",
       " 'Troy Wing',\n",
       " 'Varun Ghaswala',\n",
       " 'Vaughan Walker',\n",
       " 'Victor Mingueza',\n",
       " 'Vivek Chari',\n",
       " 'Wayne Goh',\n",
       " 'Weeda Lostitmonton',\n",
       " 'Wen-Yang Ji',\n",
       " 'Willard Nyamunokora',\n",
       " 'William Le',\n",
       " 'Winnie Sowerby',\n",
       " 'Yi Liu',\n",
       " 'Yong Que',\n",
       " 'Zoe Xu']"
      ]
     },
     "execution_count": 11,
     "metadata": {},
     "output_type": "execute_result"
    }
   ],
   "source": [
    "names = list(df[\"Name\"].loc[:180])\n",
    "names"
   ]
  },
  {
   "cell_type": "code",
   "execution_count": 15,
   "id": "9f253acb",
   "metadata": {},
   "outputs": [
    {
     "data": {
      "text/plain": [
       "181"
      ]
     },
     "execution_count": 15,
     "metadata": {},
     "output_type": "execute_result"
    }
   ],
   "source": [
    "name_counter = Counter(names)\n",
    "len(list(name_counter))"
   ]
  },
  {
   "cell_type": "code",
   "execution_count": 17,
   "id": "a0fecabc",
   "metadata": {},
   "outputs": [
    {
     "data": {
      "text/plain": [
       "Counter({'David Shepherd Acting GM SE': 62,\n",
       "         'Craig McDonald': 35,\n",
       "         'Malen Hurbuns': 31,\n",
       "         'Lesley Walmsley Acting GM CS': 23,\n",
       "         'Dan Cornwall': 11,\n",
       "         'David Shepherd': 9,\n",
       "         'Mike Gatman': 5,\n",
       "         'Lesley Walmsley ': 5})"
      ]
     },
     "execution_count": 17,
     "metadata": {},
     "output_type": "execute_result"
    }
   ],
   "source": [
    "gms = list(df[\"GM\"].loc[:180])\n",
    "gm_counter = Counter(gms)\n",
    "gm_counter"
   ]
  },
  {
   "cell_type": "code",
   "execution_count": 18,
   "id": "a4623e54",
   "metadata": {},
   "outputs": [
    {
     "data": {
      "text/plain": [
       "185"
      ]
     },
     "execution_count": 18,
     "metadata": {},
     "output_type": "execute_result"
    }
   ],
   "source": [
    "all_names = set(name_counter).union(gm_counter)\n",
    "len(all_names)"
   ]
  },
  {
   "cell_type": "code",
   "execution_count": 19,
   "id": "cbfdbae4",
   "metadata": {},
   "outputs": [
    {
     "data": {
      "text/plain": [
       "Counter({'Contract': 98, 'Perm': 81, nan: 2})"
      ]
     },
     "execution_count": 19,
     "metadata": {},
     "output_type": "execute_result"
    }
   ],
   "source": [
    "emp_types = list(df[\"Perm/Contract\"].loc[:180])\n",
    "emp_type_counter = Counter(emp_types)\n",
    "emp_type_counter"
   ]
  },
  {
   "cell_type": "code",
   "execution_count": 20,
   "id": "754bb2bd",
   "metadata": {},
   "outputs": [
    {
     "data": {
      "text/plain": [
       "188"
      ]
     },
     "execution_count": 20,
     "metadata": {},
     "output_type": "execute_result"
    }
   ],
   "source": [
    "all_nodes = all_names.union(set(emp_type_counter))\n",
    "len(all_nodes)"
   ]
  },
  {
   "cell_type": "code",
   "execution_count": 21,
   "id": "4b3f1417",
   "metadata": {},
   "outputs": [
    {
     "name": "stdout",
     "output_type": "stream",
     "text": [
      "Total nodes added = 188\n"
     ]
    }
   ],
   "source": [
    "print(f\"Total nodes added = {len(all_nodes)}\")"
   ]
  },
  {
   "cell_type": "code",
   "execution_count": 23,
   "id": "16da269c",
   "metadata": {},
   "outputs": [
    {
     "name": "stdout",
     "output_type": "stream",
     "text": [
      "Total connections added = 362\n"
     ]
    }
   ],
   "source": [
    "print(f\"Total connections added = {len(name_counter)*2}\")"
   ]
  },
  {
   "cell_type": "code",
   "execution_count": null,
   "id": "c2029a9c",
   "metadata": {},
   "outputs": [],
   "source": []
  }
 ],
 "metadata": {
  "kernelspec": {
   "display_name": "Python 3 (ipykernel)",
   "language": "python",
   "name": "python3"
  },
  "language_info": {
   "codemirror_mode": {
    "name": "ipython",
    "version": 3
   },
   "file_extension": ".py",
   "mimetype": "text/x-python",
   "name": "python",
   "nbconvert_exporter": "python",
   "pygments_lexer": "ipython3",
   "version": "3.11.3"
  }
 },
 "nbformat": 4,
 "nbformat_minor": 5
}
